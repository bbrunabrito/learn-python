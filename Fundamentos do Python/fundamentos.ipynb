{
 "cells": [
  {
   "cell_type": "markdown",
   "source": [
    "# Fundamentos de Python"
   ],
   "metadata": {
    "collapsed": false
   },
   "id": "295de9fdcf05b7f1"
  },
  {
   "cell_type": "markdown",
   "source": [
    "## Tipos de Dados\n",
    "\n",
    "| Texto      | str               |\n",
    "| ---------- | ----------------- |\n",
    "| Numérico  | int,float,complex |\n",
    "| Sequência | list,tuple,range  |\n",
    " | Mapa | dict |\n",
    "| Coleção | set,frozenset |\n",
    "| Booleano | bool |\n",
    "| Binário | bytes,bytearray,memoryview |"
   ],
   "metadata": {
    "collapsed": false
   },
   "id": "6986a8784e45ad72"
  },
  {
   "cell_type": "code",
   "execution_count": 1,
   "id": "initial_id",
   "metadata": {
    "collapsed": true,
    "ExecuteTime": {
     "end_time": "2024-05-10T21:26:01.562783Z",
     "start_time": "2024-05-10T21:26:01.517514Z"
    }
   },
   "outputs": [
    {
     "name": "stdout",
     "output_type": "stream",
     "text": [
      "Nome: Maria\n",
      "Idade: 30\n",
      "Altura: 1.65\n",
      "Casada: True\n",
      "Cores favoritas: ['vermelho', 'verde', 'azul']\n",
      "Pontuações: {'Matemática': 90, 'Português': 85, 'História': 88}\n",
      "Primeira cor favorita: vermelho\n",
      "Pontuação em Matemática: 90\n",
      "\n",
      "Após as alterações:\n",
      "Idade atualizada: 31\n",
      "Cores favoritas atualizadas: ['vermelho', 'verde', 'azul', 'amarelo']\n",
      "Pontuações atualizadas: {'Matemática': 95, 'Português': 85, 'História': 88}\n"
     ]
    }
   ],
   "source": [
    "# Declarando variáveis de diferentes tipos de dados\n",
    "nome = \"Maria\"  # String\n",
    "idade = 30      # Inteiro\n",
    "altura = 1.65   # Float\n",
    "casada = True   # Booleano\n",
    "cores = ['vermelho', 'verde', 'azul']  # Lista de strings\n",
    "pontuacoes = {'Matemática': 90, 'Português': 85, 'História': 88}  # Dicionário\n",
    "\n",
    "# Exibindo informações\n",
    "print(\"Nome:\", nome)\n",
    "print(\"Idade:\", idade)\n",
    "print(\"Altura:\", altura)\n",
    "print(\"Casada:\", casada)\n",
    "print(\"Cores favoritas:\", cores)\n",
    "print(\"Pontuações:\", pontuacoes)\n",
    "\n",
    "# Acessando elementos da lista e do dicionário\n",
    "print(\"Primeira cor favorita:\", cores[0])\n",
    "print(\"Pontuação em Matemática:\", pontuacoes['Matemática'])\n",
    "\n",
    "# Alterando valores\n",
    "idade = 31\n",
    "cores.append('amarelo')\n",
    "pontuacoes['Matemática'] = 95\n",
    "\n",
    "# Exibindo informações atualizadas\n",
    "print(\"\\nApós as alterações:\")\n",
    "print(\"Idade atualizada:\", idade)\n",
    "print(\"Cores favoritas atualizadas:\", cores)\n",
    "print(\"Pontuações atualizadas:\", pontuacoes)\n"
   ]
  }
 ],
 "metadata": {
  "kernelspec": {
   "display_name": "Python 3",
   "language": "python",
   "name": "python3"
  },
  "language_info": {
   "codemirror_mode": {
    "name": "ipython",
    "version": 2
   },
   "file_extension": ".py",
   "mimetype": "text/x-python",
   "name": "python",
   "nbconvert_exporter": "python",
   "pygments_lexer": "ipython2",
   "version": "2.7.6"
  }
 },
 "nbformat": 4,
 "nbformat_minor": 5
}
